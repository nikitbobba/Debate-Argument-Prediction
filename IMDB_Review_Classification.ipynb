{
 "cells": [
  {
   "cell_type": "code",
   "execution_count": 4,
   "metadata": {},
   "outputs": [],
   "source": [
    "import tensorflow as tf\n",
    "from tensorflow import keras\n",
    "import numpy as np\n",
    "import matplotlib.pyplot as plt"
   ]
  },
  {
   "cell_type": "code",
   "execution_count": 5,
   "metadata": {},
   "outputs": [
    {
     "name": "stdout",
     "output_type": "stream",
     "text": [
      "1.10.0\n"
     ]
    }
   ],
   "source": [
    "print (tf.__version__)"
   ]
  },
  {
   "cell_type": "code",
   "execution_count": 6,
   "metadata": {},
   "outputs": [],
   "source": [
    "imdb = keras.datasets.imdb\n",
    "(train_data, train_labels), (test_data, test_labels) = imdb.load_data(num_words=10000)"
   ]
  },
  {
   "cell_type": "code",
   "execution_count": 8,
   "metadata": {},
   "outputs": [
    {
     "name": "stdout",
     "output_type": "stream",
     "text": [
      "[1 0 0 1 0 0 1 0 1 0 1 0 0 0 0 0 1 1 0 1 0 0 1 0 1 1 0 0 1 0 0 1 1 1 0 0 0\n",
      " 1 0 0 1 0 0 0 1 1 1 0 1 0]\n"
     ]
    }
   ],
   "source": [
    "print (train_labels[:50])"
   ]
  },
  {
   "cell_type": "code",
   "execution_count": 10,
   "metadata": {},
   "outputs": [],
   "source": [
    "#print (train_data[:50])"
   ]
  },
  {
   "cell_type": "code",
   "execution_count": 11,
   "metadata": {},
   "outputs": [],
   "source": [
    "#print (train_data[0])"
   ]
  },
  {
   "cell_type": "code",
   "execution_count": 22,
   "metadata": {},
   "outputs": [
    {
     "name": "stdout",
     "output_type": "stream",
     "text": [
      "88587\n"
     ]
    }
   ],
   "source": [
    "# A dictionary mapping words to an integer index\n",
    "word_index = imdb.get_word_index()\n",
    "word_index = {k:(v+3) for k,v in word_index.items()} \n",
    "word_index[\"<PAD>\"] = 0\n",
    "word_index[\"<START>\"] = 1\n",
    "word_index[\"<UNK>\"] = 2  # unknown\n",
    "word_index[\"<UNUSED>\"] = 3\n",
    "\n",
    "\n",
    "    \n",
    "\n",
    "reverse_word_index = dict([(value, key) for (key, value) in word_index.items()])\n",
    "\n",
    "def decode_review(text):\n",
    "    return ' '.join([reverse_word_index.get(i, '?') for i in text])"
   ]
  },
  {
   "cell_type": "code",
   "execution_count": 6,
   "metadata": {},
   "outputs": [
    {
     "data": {
      "text/plain": [
       "\"<START> shown in australia as <UNK> this incredibly bad movie is so bad that you become <UNK> and have to watch it to the end just to see if it could get any worse and it does the storyline is so predictable it seems written by a high school <UNK> class the sets are pathetic but <UNK> better than the <UNK> and the acting is wooden br br the <UNK> <UNK> seems to have been stolen from the props <UNK> of <UNK> <UNK> there didn't seem to be a single original idea in the whole movie br br i found this movie to be so bad that i laughed most of the way through br br malcolm mcdowell should hang his head in shame he obviously needed the money\""
      ]
     },
     "execution_count": 6,
     "metadata": {},
     "output_type": "execute_result"
    }
   ],
   "source": [
    "decode_review(train_data[20])"
   ]
  },
  {
   "cell_type": "code",
   "execution_count": 1,
   "metadata": {},
   "outputs": [],
   "source": [
    "#print(reverse_word_index)"
   ]
  },
  {
   "cell_type": "code",
   "execution_count": 23,
   "metadata": {},
   "outputs": [],
   "source": [
    "train_data = keras.preprocessing.sequence.pad_sequences(train_data, value=word_index[\"<PAD>\"], padding='post', maxlen=256)\n",
    "\n",
    "test_data = keras.preprocessing.sequence.pad_sequences(test_data, value=word_index[\"<PAD>\"], padding='post', maxlen=256)"
   ]
  },
  {
   "cell_type": "code",
   "execution_count": 17,
   "metadata": {},
   "outputs": [
    {
     "data": {
      "text/plain": [
       "(25000, 25000)"
      ]
     },
     "execution_count": 17,
     "metadata": {},
     "output_type": "execute_result"
    }
   ],
   "source": [
    "len(train_data), len(test_data)"
   ]
  },
  {
   "cell_type": "code",
   "execution_count": 26,
   "metadata": {},
   "outputs": [
    {
     "name": "stdout",
     "output_type": "stream",
     "text": [
      "[   1   14   22   16   43  530  973 1622 1385   65  458 4468   66 3941\n",
      "    4  173   36  256    5   25  100   43  838  112   50  670    2    9\n",
      "   35  480  284    5  150    4  172  112  167    2  336  385   39    4\n",
      "  172 4536 1111   17  546   38   13  447    4  192   50   16    6  147\n",
      " 2025   19   14   22    4 1920 4613  469    4   22   71   87   12   16\n",
      "   43  530   38   76   15   13 1247    4   22   17  515   17   12   16\n",
      "  626   18    2    5   62  386   12    8  316    8  106    5    4 2223\n",
      " 5244   16  480   66 3785   33    4  130   12   16   38  619    5   25\n",
      "  124   51   36  135   48   25 1415   33    6   22   12  215   28   77\n",
      "   52    5   14  407   16   82    2    8    4  107  117 5952   15  256\n",
      "    4    2    7 3766    5  723   36   71   43  530  476   26  400  317\n",
      "   46    7    4    2 1029   13  104   88    4  381   15  297   98   32\n",
      " 2071   56   26  141    6  194 7486   18    4  226   22   21  134  476\n",
      "   26  480    5  144   30 5535   18   51   36   28  224   92   25  104\n",
      "    4  226   65   16   38 1334   88   12   16  283    5   16 4472  113\n",
      "  103   32   15   16 5345   19  178   32    0    0    0    0    0    0\n",
      "    0    0    0    0    0    0    0    0    0    0    0    0    0    0\n",
      "    0    0    0    0    0    0    0    0    0    0    0    0    0    0\n",
      "    0    0    0    0]\n"
     ]
    }
   ],
   "source": [
    "print (train_data[0])"
   ]
  },
  {
   "cell_type": "code",
   "execution_count": 27,
   "metadata": {},
   "outputs": [
    {
     "name": "stdout",
     "output_type": "stream",
     "text": [
      "_________________________________________________________________\n",
      "Layer (type)                 Output Shape              Param #   \n",
      "=================================================================\n",
      "embedding (Embedding)        (None, None, 16)          160000    \n",
      "_________________________________________________________________\n",
      "global_average_pooling1d (Gl (None, 16)                0         \n",
      "_________________________________________________________________\n",
      "dense (Dense)                (None, 16)                272       \n",
      "_________________________________________________________________\n",
      "dense_1 (Dense)              (None, 1)                 17        \n",
      "=================================================================\n",
      "Total params: 160,289\n",
      "Trainable params: 160,289\n",
      "Non-trainable params: 0\n",
      "_________________________________________________________________\n"
     ]
    }
   ],
   "source": [
    "# input shape is the vocabulary count used for the movie reviews (10,000 words)\n",
    "vocab_size = 10000\n",
    "\n",
    "model = keras.Sequential()\n",
    "model.add(keras.layers.Embedding(vocab_size, 16))\n",
    "model.add(keras.layers.GlobalAveragePooling1D())\n",
    "model.add(keras.layers.Dense(16, activation=tf.nn.relu))\n",
    "model.add(keras.layers.Dense(1, activation=tf.nn.sigmoid))\n",
    "\n",
    "model.summary()"
   ]
  },
  {
   "cell_type": "code",
   "execution_count": 15,
   "metadata": {},
   "outputs": [
    {
     "data": {
      "text/plain": [
       "25000"
      ]
     },
     "execution_count": 15,
     "metadata": {},
     "output_type": "execute_result"
    }
   ],
   "source": [
    "len(train_data)\n",
    "len(test_data)"
   ]
  },
  {
   "cell_type": "code",
   "execution_count": 29,
   "metadata": {},
   "outputs": [
    {
     "name": "stdout",
     "output_type": "stream",
     "text": [
      "Train on 15000 samples, validate on 10000 samples\n",
      "Epoch 1/40\n",
      "15000/15000 [==============================] - 1s 55us/step - loss: 0.7000 - acc: 0.5037 - val_loss: 0.6949 - val_acc: 0.5092\n",
      "Epoch 2/40\n",
      "15000/15000 [==============================] - 0s 29us/step - loss: 0.6917 - acc: 0.5187 - val_loss: 0.6891 - val_acc: 0.5268\n",
      "Epoch 3/40\n",
      "15000/15000 [==============================] - 1s 36us/step - loss: 0.6857 - acc: 0.5613 - val_loss: 0.6837 - val_acc: 0.5902\n",
      "Epoch 4/40\n",
      "15000/15000 [==============================] - 1s 43us/step - loss: 0.6780 - acc: 0.6244 - val_loss: 0.6765 - val_acc: 0.5992\n",
      "Epoch 5/40\n",
      "15000/15000 [==============================] - 1s 34us/step - loss: 0.6685 - acc: 0.7094 - val_loss: 0.6655 - val_acc: 0.7420\n",
      "Epoch 6/40\n",
      "15000/15000 [==============================] - 0s 31us/step - loss: 0.6575 - acc: 0.7545 - val_loss: 0.6546 - val_acc: 0.7352\n",
      "Epoch 7/40\n",
      "15000/15000 [==============================] - 0s 29us/step - loss: 0.6437 - acc: 0.7694 - val_loss: 0.6410 - val_acc: 0.7597\n",
      "Epoch 8/40\n",
      "15000/15000 [==============================] - 0s 31us/step - loss: 0.6272 - acc: 0.7751 - val_loss: 0.6250 - val_acc: 0.7670\n",
      "Epoch 9/40\n",
      "15000/15000 [==============================] - 0s 30us/step - loss: 0.6080 - acc: 0.7819 - val_loss: 0.6055 - val_acc: 0.7677\n",
      "Epoch 10/40\n",
      "15000/15000 [==============================] - 0s 29us/step - loss: 0.5853 - acc: 0.7975 - val_loss: 0.5840 - val_acc: 0.7842\n",
      "Epoch 11/40\n",
      "15000/15000 [==============================] - 0s 31us/step - loss: 0.5606 - acc: 0.7993 - val_loss: 0.5637 - val_acc: 0.7808\n",
      "Epoch 12/40\n",
      "15000/15000 [==============================] - 0s 29us/step - loss: 0.5348 - acc: 0.8137 - val_loss: 0.5364 - val_acc: 0.8021\n",
      "Epoch 13/40\n",
      "15000/15000 [==============================] - 0s 28us/step - loss: 0.5065 - acc: 0.8284 - val_loss: 0.5125 - val_acc: 0.8147\n",
      "Epoch 14/40\n",
      "15000/15000 [==============================] - 0s 29us/step - loss: 0.4797 - acc: 0.8383 - val_loss: 0.4885 - val_acc: 0.8236\n",
      "Epoch 15/40\n",
      "15000/15000 [==============================] - 0s 28us/step - loss: 0.4536 - acc: 0.8453 - val_loss: 0.4652 - val_acc: 0.8319\n",
      "Epoch 16/40\n",
      "15000/15000 [==============================] - 0s 30us/step - loss: 0.4292 - acc: 0.8546 - val_loss: 0.4439 - val_acc: 0.8393\n",
      "Epoch 17/40\n",
      "15000/15000 [==============================] - 0s 28us/step - loss: 0.4052 - acc: 0.8639 - val_loss: 0.4248 - val_acc: 0.8459\n",
      "Epoch 18/40\n",
      "15000/15000 [==============================] - 0s 29us/step - loss: 0.3841 - acc: 0.8715 - val_loss: 0.4073 - val_acc: 0.8498\n",
      "Epoch 19/40\n",
      "15000/15000 [==============================] - 0s 29us/step - loss: 0.3651 - acc: 0.8765 - val_loss: 0.3921 - val_acc: 0.8556\n",
      "Epoch 20/40\n",
      "15000/15000 [==============================] - 0s 31us/step - loss: 0.3478 - acc: 0.8819 - val_loss: 0.3787 - val_acc: 0.8584\n",
      "Epoch 21/40\n",
      "15000/15000 [==============================] - 0s 31us/step - loss: 0.3322 - acc: 0.8877 - val_loss: 0.3670 - val_acc: 0.8628\n",
      "Epoch 22/40\n",
      "15000/15000 [==============================] - 1s 36us/step - loss: 0.3180 - acc: 0.8917 - val_loss: 0.3567 - val_acc: 0.8667\n",
      "Epoch 23/40\n",
      "15000/15000 [==============================] - 0s 32us/step - loss: 0.3054 - acc: 0.8942 - val_loss: 0.3482 - val_acc: 0.8669\n",
      "Epoch 24/40\n",
      "15000/15000 [==============================] - 0s 30us/step - loss: 0.2934 - acc: 0.8990 - val_loss: 0.3399 - val_acc: 0.8712\n",
      "Epoch 25/40\n",
      "15000/15000 [==============================] - 0s 29us/step - loss: 0.2827 - acc: 0.9028 - val_loss: 0.3329 - val_acc: 0.8731\n",
      "Epoch 26/40\n",
      "15000/15000 [==============================] - 0s 30us/step - loss: 0.2727 - acc: 0.9067 - val_loss: 0.3271 - val_acc: 0.8728\n",
      "Epoch 27/40\n",
      "15000/15000 [==============================] - 0s 31us/step - loss: 0.2639 - acc: 0.9083 - val_loss: 0.3216 - val_acc: 0.8758\n",
      "Epoch 28/40\n",
      "15000/15000 [==============================] - 0s 29us/step - loss: 0.2549 - acc: 0.9119 - val_loss: 0.3164 - val_acc: 0.8761\n",
      "Epoch 29/40\n",
      "15000/15000 [==============================] - 0s 31us/step - loss: 0.2470 - acc: 0.9151 - val_loss: 0.3126 - val_acc: 0.8759\n",
      "Epoch 30/40\n",
      "15000/15000 [==============================] - 0s 28us/step - loss: 0.2403 - acc: 0.9156 - val_loss: 0.3086 - val_acc: 0.8786\n",
      "Epoch 31/40\n",
      "15000/15000 [==============================] - 0s 29us/step - loss: 0.2323 - acc: 0.9196 - val_loss: 0.3054 - val_acc: 0.8793\n",
      "Epoch 32/40\n",
      "15000/15000 [==============================] - 0s 29us/step - loss: 0.2263 - acc: 0.9216 - val_loss: 0.3025 - val_acc: 0.8798\n",
      "Epoch 33/40\n",
      "15000/15000 [==============================] - 0s 30us/step - loss: 0.2192 - acc: 0.9239 - val_loss: 0.2999 - val_acc: 0.8810\n",
      "Epoch 34/40\n",
      "15000/15000 [==============================] - 0s 29us/step - loss: 0.2133 - acc: 0.9262 - val_loss: 0.2979 - val_acc: 0.8804\n",
      "Epoch 35/40\n",
      "15000/15000 [==============================] - 0s 29us/step - loss: 0.2081 - acc: 0.9273 - val_loss: 0.2957 - val_acc: 0.8810\n",
      "Epoch 36/40\n",
      "15000/15000 [==============================] - 0s 29us/step - loss: 0.2020 - acc: 0.9303 - val_loss: 0.2941 - val_acc: 0.8821\n",
      "Epoch 37/40\n",
      "15000/15000 [==============================] - 0s 29us/step - loss: 0.1968 - acc: 0.9323 - val_loss: 0.2927 - val_acc: 0.8819\n",
      "Epoch 38/40\n",
      "15000/15000 [==============================] - 0s 29us/step - loss: 0.1919 - acc: 0.9350 - val_loss: 0.2913 - val_acc: 0.8827\n",
      "Epoch 39/40\n",
      "15000/15000 [==============================] - 0s 28us/step - loss: 0.1867 - acc: 0.9372 - val_loss: 0.2900 - val_acc: 0.8837\n",
      "Epoch 40/40\n",
      "15000/15000 [==============================] - 0s 29us/step - loss: 0.1820 - acc: 0.9390 - val_loss: 0.2891 - val_acc: 0.8838\n"
     ]
    }
   ],
   "source": [
    "#Loss function and optimizer\n",
    "model.compile(optimizer=tf.train.AdamOptimizer(),\n",
    "              loss='binary_crossentropy',\n",
    "              metrics=['accuracy'])\n",
    "\n",
    "#Need a validation set\n",
    "x_val = train_data[:10000]\n",
    "partial_x_train = train_data[10000:]\n",
    "\n",
    "y_val = train_labels[:10000]\n",
    "partial_y_train = train_labels[10000:]\n",
    "\n",
    "#Train model\n",
    "history = model.fit(partial_x_train,\n",
    "                    partial_y_train,\n",
    "                    epochs=40,\n",
    "                    batch_size=512,\n",
    "                    validation_data=(x_val, y_val),\n",
    "                    verbose=1)"
   ]
  },
  {
   "cell_type": "code",
   "execution_count": 24,
   "metadata": {},
   "outputs": [
    {
     "ename": "NameError",
     "evalue": "name 'model' is not defined",
     "output_type": "error",
     "traceback": [
      "\u001b[0;31m---------------------------------------------------------------------------\u001b[0m",
      "\u001b[0;31mNameError\u001b[0m                                 Traceback (most recent call last)",
      "\u001b[0;32m<ipython-input-24-09e41ed56d90>\u001b[0m in \u001b[0;36m<module>\u001b[0;34m\u001b[0m\n\u001b[0;32m----> 1\u001b[0;31m \u001b[0mresults\u001b[0m \u001b[0;34m=\u001b[0m \u001b[0mmodel\u001b[0m\u001b[0;34m.\u001b[0m\u001b[0mevaluate\u001b[0m\u001b[0;34m(\u001b[0m\u001b[0mtest_data\u001b[0m\u001b[0;34m,\u001b[0m \u001b[0mtest_labels\u001b[0m\u001b[0;34m)\u001b[0m\u001b[0;34m\u001b[0m\u001b[0m\n\u001b[0m\u001b[1;32m      2\u001b[0m \u001b[0;34m\u001b[0m\u001b[0m\n\u001b[1;32m      3\u001b[0m \u001b[0mprint\u001b[0m\u001b[0;34m(\u001b[0m\u001b[0mresults\u001b[0m\u001b[0;34m)\u001b[0m\u001b[0;34m\u001b[0m\u001b[0m\n",
      "\u001b[0;31mNameError\u001b[0m: name 'model' is not defined"
     ]
    }
   ],
   "source": [
    "results = model.evaluate(test_data, test_labels)\n",
    "\n",
    "print(results)"
   ]
  },
  {
   "cell_type": "code",
   "execution_count": 23,
   "metadata": {},
   "outputs": [
    {
     "ename": "NameError",
     "evalue": "name 'acc' is not defined",
     "output_type": "error",
     "traceback": [
      "\u001b[0;31m---------------------------------------------------------------------------\u001b[0m",
      "\u001b[0;31mNameError\u001b[0m                                 Traceback (most recent call last)",
      "\u001b[0;32m<ipython-input-23-c3bde9bcf573>\u001b[0m in \u001b[0;36m<module>\u001b[0;34m\u001b[0m\n\u001b[0;32m----> 1\u001b[0;31m \u001b[0mprint\u001b[0m \u001b[0;34m(\u001b[0m\u001b[0macc\u001b[0m\u001b[0;34m)\u001b[0m\u001b[0;34m\u001b[0m\u001b[0m\n\u001b[0m",
      "\u001b[0;31mNameError\u001b[0m: name 'acc' is not defined"
     ]
    }
   ],
   "source": [
    "print (acc)"
   ]
  },
  {
   "cell_type": "code",
   "execution_count": 34,
   "metadata": {},
   "outputs": [
    {
     "data": {
      "image/png": "[encoded data removed]",
      "text/plain": [
       "<Figure size 432x288 with 1 Axes>"
      ]
     },
     "metadata": {
      "needs_background": "light"
     },
     "output_type": "display_data"
    },
    {
     "data": {
      "image/png": "[encoded data removed]",
      "text/plain": [
       "<Figure size 432x288 with 1 Axes>"
      ]
     },
     "metadata": {
      "needs_background": "light"
     },
     "output_type": "display_data"
    }
   ],
   "source": [
    "# Make use of matplot lib\n",
    "acc = history.history['acc']\n",
    "val_acc = history.history['val_acc']\n",
    "loss = history.history['loss']\n",
    "val_loss = history.history['val_loss']\n",
    "\n",
    "epochs = range(1, len(acc) + 1)\n",
    "\n",
    "# \"bo\" is for \"blue dot\"\n",
    "plt.plot(epochs, loss, 'bo', label='Training loss')\n",
    "# b is for \"solid blue line\"\n",
    "plt.plot(epochs, val_loss, 'b', label='Validation loss')\n",
    "plt.title('Training and validation loss')\n",
    "plt.xlabel('Epochs')\n",
    "plt.ylabel('Loss')\n",
    "plt.legend()\n",
    "\n",
    "plt.show()\n",
    "\n",
    "\n",
    "\n",
    "plt.clf()   # clear figure\n",
    "acc_values = history_dict['acc']\n",
    "val_acc_values = history_dict['val_acc']\n",
    "\n",
    "plt.plot(epochs, acc, 'bo', label='Training acc')\n",
    "plt.plot(epochs, val_acc, 'b', label='Validation acc')\n",
    "plt.title('Training and validation accuracy')\n",
    "plt.xlabel('Epochs')\n",
    "plt.ylabel('Accuracy')\n",
    "plt.legend()\n",
    "\n",
    "plt.show()"
   ]
  },
  {
   "cell_type": "code",
   "execution_count": null,
   "metadata": {},
   "outputs": [],
   "source": []
  }
 ],
 "metadata": {
  "kernelspec": {
   "display_name": "Python 3",
   "language": "python",
   "name": "python3"
  },
  "language_info": {
   "codemirror_mode": {
    "name": "ipython",
    "version": 3
   },
   "file_extension": ".py",
   "mimetype": "text/x-python",
   "name": "python",
   "nbconvert_exporter": "python",
   "pygments_lexer": "ipython3",
   "version": "3.6.6"
  }
 },
 "nbformat": 4,
 "nbformat_minor": 2
}
